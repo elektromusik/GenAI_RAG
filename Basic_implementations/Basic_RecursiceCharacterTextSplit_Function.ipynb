{
  "nbformat": 4,
  "nbformat_minor": 0,
  "metadata": {
    "colab": {
      "provenance": [],
      "authorship_tag": "ABX9TyPZ87kNauPKPCfsOZR+fk6y",
      "include_colab_link": true
    },
    "kernelspec": {
      "name": "python3",
      "display_name": "Python 3"
    },
    "language_info": {
      "name": "python"
    }
  },
  "cells": [
    {
      "cell_type": "markdown",
      "metadata": {
        "id": "view-in-github",
        "colab_type": "text"
      },
      "source": [
        "<a href=\"https://colab.research.google.com/github/elektromusik/RAG/blob/main/Basic_implementations/Basic_RecursiceCharacterTextSplit_Function.ipynb\" target=\"_parent\"><img src=\"https://colab.research.google.com/assets/colab-badge.svg\" alt=\"Open In Colab\"/></a>"
      ]
    },
    {
      "cell_type": "code",
      "source": [
        "def RecursiveCharacterTextSplit(text,\n",
        "                                chunk_size=1000,\n",
        "                                sep=[\"\\n\\n\", \"\\n\", \". \", \", \", \" \", \"\"]):\n",
        "\n",
        "  # Base case: If the text is smaller than or equal to the chunk_size\n",
        "  if len(text) <= chunk_size:\n",
        "    return [text]\n",
        "\n",
        "  # If we encounter the empty separator \"\", forcefully split the text into\n",
        "  # chunks\n",
        "  if sep[0] == \"\":\n",
        "    return [text[i:i + chunk_size] for i in range(0, len(text), chunk_size)]\n",
        "  else:\n",
        "    # Split the text using the current separator\n",
        "    sections = text.split(sep[0])\n",
        "\n",
        "  chunks = []\n",
        "\n",
        "  # Iterate through each section and process it\n",
        "  for section in sections:\n",
        "    if len(section) > chunk_size:\n",
        "      # If the section is too large, recursively call the function with the next\n",
        "      # separator. The list becomes smaller at each call.\n",
        "      if len(sep) > 1:\n",
        "        chunks.extend(RecursiveCharacterTextSplit(section,\n",
        "                                                  chunk_size,\n",
        "                                                  sep[1:]))\n",
        "      else:\n",
        "        # If there is only the empty separator \"\" left, forcefully split into\n",
        "        # smaller chunks\n",
        "        chunks.extend([section[i:i + chunk_size]\n",
        "                           for i in range(0, len(section), chunk_size)])\n",
        "    else:\n",
        "      # If the section is small enough, add it to the list of chunks\n",
        "      if sections.index(section) == 0:\n",
        "        section = section.replace(\"\\n\", \" \")\n",
        "        chunks.append(section)\n",
        "        # If two following chunks are smaller than the chunk_size, merge them\n",
        "        # together\n",
        "      elif (len(chunks[-1]) + len(section) <= chunk_size):\n",
        "        section = section.replace(\"\\n\", \" \")\n",
        "        chunks[-1] += (\" \" + section)\n",
        "      # If the section is small enough, add it to the list of chunks\n",
        "      else:\n",
        "        section = section.replace(\"\\n\", \" \")\n",
        "        chunks.append(section)\n",
        "\n",
        "  # Return the list of chunks\n",
        "  return chunks\n",
        "\n",
        "# Test\n",
        "with open(\"alice_in_wonderland.md\") as x:\n",
        "  text = x.read()\n",
        "\n",
        "chunks = RecursiveCharacterTextSplit(text)\n",
        "print(chunks)"
      ],
      "metadata": {
        "id": "KD0xu6E5TcnH"
      },
      "execution_count": null,
      "outputs": []
    },
    {
      "cell_type": "markdown",
      "source": [],
      "metadata": {
        "id": "Z0o3NxsD6Oe9"
      }
    }
  ]
}